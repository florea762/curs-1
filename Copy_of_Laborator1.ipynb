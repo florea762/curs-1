{
  "nbformat": 4,
  "nbformat_minor": 0,
  "metadata": {
    "colab": {
      "name": "Copy of Laborator1.ipynb",
      "provenance": [],
      "collapsed_sections": [],
      "toc_visible": true,
      "include_colab_link": true
    },
    "kernelspec": {
      "name": "python3",
      "display_name": "Python 3"
    }
  },
  "cells": [
    {
      "cell_type": "markdown",
      "metadata": {
        "id": "view-in-github",
        "colab_type": "text"
      },
      "source": [
        "<a href=\"https://colab.research.google.com/github/florea762/curs-1/blob/master/Copy_of_Laborator1.ipynb\" target=\"_parent\"><img src=\"https://colab.research.google.com/assets/colab-badge.svg\" alt=\"Open In Colab\"/></a>"
      ]
    },
    {
      "cell_type": "markdown",
      "metadata": {
        "id": "HyH9wsqKliOU"
      },
      "source": [
        "# Introducere\n",
        "- Google Colabs\n",
        "- GitHub\n",
        "- Python\n"
      ]
    },
    {
      "cell_type": "markdown",
      "metadata": {
        "id": "lMGVVb9zl0WT"
      },
      "source": [
        "#Python\n",
        "**Librării utile**\n",
        "- Numpy\n",
        "- Panda\n",
        "- scikit-learn\n",
        "- Matplotlib\n",
        "- Keras\n",
        "\n"
      ]
    },
    {
      "cell_type": "code",
      "metadata": {
        "id": "cXKFOZyqnQ_Y"
      },
      "source": [
        "import pandas as pd \n",
        "import numpy as np \n",
        "from matplotlib import pyplot as plt\n",
        "import scipy.io as sio\n",
        "import keras\n"
      ],
      "execution_count": null,
      "outputs": []
    },
    {
      "cell_type": "markdown",
      "metadata": {
        "id": "Bs5DvFRnrH1Y"
      },
      "source": [
        "#Noțiuni de bază"
      ]
    },
    {
      "cell_type": "markdown",
      "metadata": {
        "id": "vJN81dxwp8kJ"
      },
      "source": [
        "**Operații simple**"
      ]
    },
    {
      "cell_type": "code",
      "metadata": {
        "id": "xhGjoI2qpFpY",
        "colab": {
          "base_uri": "https://localhost:8080/"
        },
        "outputId": "4e2a66f4-2b20-4cd1-cceb-b04b9a5e290c"
      },
      "source": [
        "a = 5\n",
        "b = 7\n",
        "s1 = a+b\n",
        "s2 = a-b\n",
        "s3 = a/b\n",
        "s4 = a*b\n",
        "print('Rezultatul adunării este:'+ str(s1)) #funția str() - transformă numărul in stringș funcția print() afișează variabila\n",
        "print('Rezultatul scăderii este:'+ str(s2))\n",
        "print('Rezultatul impărțirii este:'+ str(s3))\n",
        "print('Rezultatul înmulțirii este:'+ str(s4))\n",
        "print(type(a))"
      ],
      "execution_count": null,
      "outputs": [
        {
          "output_type": "stream",
          "text": [
            "Rezultatul adunării este:12\n",
            "Rezultatul scăderii este:-2\n",
            "Rezultatul impărțirii este:0.7142857142857143\n",
            "Rezultatul înmulțirii este:35\n",
            "<class 'int'>\n"
          ],
          "name": "stdout"
        }
      ]
    },
    {
      "cell_type": "markdown",
      "metadata": {
        "id": "TPEs4jI1qzlF"
      },
      "source": [
        "**Vectori si matrici**"
      ]
    },
    {
      "cell_type": "code",
      "metadata": {
        "id": "UrIi3syWpU3m"
      },
      "source": [
        "a = [1,2,3,4,5,6,7,8,9,10]\n",
        "print(a)\n"
      ],
      "execution_count": null,
      "outputs": []
    },
    {
      "cell_type": "code",
      "metadata": {
        "id": "mctReuaQrNsI"
      },
      "source": [
        "a = list(range(1,10)) #try changing range(1,11)\n",
        "print(a)"
      ],
      "execution_count": null,
      "outputs": []
    },
    {
      "cell_type": "code",
      "metadata": {
        "id": "awYorhurr7L1"
      },
      "source": [
        "a = np.zeros(10)\n",
        "print(a)"
      ],
      "execution_count": null,
      "outputs": []
    },
    {
      "cell_type": "code",
      "metadata": {
        "id": "1CQOL4W9tVZx",
        "colab": {
          "base_uri": "https://localhost:8080/"
        },
        "outputId": "61ae6e69-03b0-4f07-ebb1-046e95c47dfd"
      },
      "source": [
        "a = np.random.randn(10)\n",
        "print('10 numere aleatorii')\n",
        "print(a)\n",
        "a = 10+np.random.randn(10)\n",
        "print(a)"
      ],
      "execution_count": null,
      "outputs": [
        {
          "output_type": "stream",
          "text": [
            "10 numere aleatorii\n",
            "[-0.46461495  0.04555192  1.03905828  1.75881672  2.59175618  0.68752363\n",
            "  0.99629736  0.02568238 -1.89809915  0.47753226]\n",
            "[ 8.54227881  8.4911366  11.40891673  9.28891498  8.14711775 10.22539154\n",
            " 11.7116198  11.13775366  9.46546405  8.87950626]\n"
          ],
          "name": "stdout"
        }
      ]
    },
    {
      "cell_type": "code",
      "metadata": {
        "id": "9GBH7e59tISf"
      },
      "source": [
        "a = [[0, 0, 0, 0],\n",
        "     [0, 0, 0, 0],\n",
        "     [0, 0, 0, 0],\n",
        "     [0, 0, 0, 0]]\n",
        "print(a)\n",
        "print(type(a))"
      ],
      "execution_count": null,
      "outputs": []
    },
    {
      "cell_type": "code",
      "metadata": {
        "id": "2PoYvoAptxYp"
      },
      "source": [
        "a = np.zeros((4,4))\n",
        "print(a)\n",
        "print(type(a))"
      ],
      "execution_count": null,
      "outputs": []
    },
    {
      "cell_type": "code",
      "metadata": {
        "id": "Xpqzbmb9uSGj"
      },
      "source": [
        "a = [[1, 4, 5, 12], \n",
        "    [-5, 8, 9, 0],\n",
        "    [-6, 7, 11, 19]]\n",
        "\n",
        "print('Primul rand din matrice')\n",
        "print(a[0])\n",
        "print('Primul element din matrice')\n",
        "print(a[0][0])\n",
        "print('Elementul i=2 (rand), j=1(coloana)')\n",
        "print(a[2][1])\n",
        "print(type(a))"
      ],
      "execution_count": null,
      "outputs": []
    },
    {
      "cell_type": "markdown",
      "metadata": {
        "id": "s8LXCaG1nmzz"
      },
      "source": [
        "#Exercițiu 1a\n",
        "Calculați și afișați valoarea:\n",
        "[3546 + (7901-621)] * 2\n",
        "\n",
        "\n"
      ]
    },
    {
      "cell_type": "code",
      "metadata": {
        "id": "4fSmtqWvwKLU"
      },
      "source": [
        ""
      ],
      "execution_count": null,
      "outputs": []
    },
    {
      "cell_type": "markdown",
      "metadata": {
        "id": "iIysJ0lEwO8Z"
      },
      "source": [
        "#Exercițiu 1b\n",
        "1.Creați și afișați o matrice de (3,3) elemente\n",
        "\n",
        "2.Afișați elementul de pe linia trei coloana trei a matricei create"
      ]
    },
    {
      "cell_type": "code",
      "metadata": {
        "id": "alk9nfM9xpAB"
      },
      "source": [
        ""
      ],
      "execution_count": null,
      "outputs": []
    },
    {
      "cell_type": "markdown",
      "metadata": {
        "id": "80Yhsg4Jx-Mv"
      },
      "source": [
        "#Exercițiu 1c\n",
        "1. Folosind librăria numpy, creați și afișați o matrice de (5,7) cu elemente aleatorii de la 1 la 100.\n",
        "Utilizați funcția numpy - np.random.randint(nr max, size=(x,x))\n",
        "\n",
        "2. Afișați elementul de la intersecția celor două diagonale ale matricei\n",
        "\n",
        "3. Aranjați crescător elementele de pe a doua coloană a matricei și afișați rezultatul. *funcția numpy sort()*\n",
        "\n",
        "4. Folosiți funcția *size()* și afișați rezultatul\n",
        "\n",
        "5. Afișați lungimea matricei. *funcția len()*\n"
      ]
    },
    {
      "cell_type": "code",
      "metadata": {
        "id": "9UTjthfmySP-"
      },
      "source": [
        ""
      ],
      "execution_count": null,
      "outputs": []
    },
    {
      "cell_type": "markdown",
      "metadata": {
        "id": "hL4BKFDH2ViM"
      },
      "source": [
        "#Operații condiționale și repetitive"
      ]
    },
    {
      "cell_type": "markdown",
      "metadata": {
        "id": "xL0uwt4FL3i9"
      },
      "source": [
        "**Operatii conditionale**\n",
        "\n",
        "Sintaxa\n",
        "\n",
        "```\n",
        "if <expression>:\n",
        "  <statement>\n",
        "\n",
        "```\n",
        "```\n",
        "if <expression>:\n",
        "  <statement>\n",
        "else:\n",
        "  <statement>\n",
        "```\n",
        "\n",
        "```\n",
        "if <expression>:\n",
        "  <statement>\n",
        "elif <expression>:\n",
        "  <statement>\n",
        "else <expression>:\n",
        "  statement>\n",
        "```\n",
        "Exemple\n",
        "\n",
        "\n",
        "\n",
        "\n",
        "\n",
        "    \n",
        "  \n",
        "\n",
        "\n"
      ]
    },
    {
      "cell_type": "code",
      "metadata": {
        "id": "dSN-wgaL2g7r"
      },
      "source": [
        "a = 21\n",
        "\n",
        "if a%3 == 0: #functia modulo '%' - calculeaza restul impartirii\n",
        "  d = a/3\n",
        "  print('Rezultatul impartirii este: '+str(d))\n",
        "else:\n",
        "  print('Variabilia a nu este divizibila cu 3')\n",
        "\n"
      ],
      "execution_count": null,
      "outputs": []
    },
    {
      "cell_type": "markdown",
      "metadata": {
        "id": "BtwRhe1AUvKe"
      },
      "source": [
        "**Operatori logici**\n",
        "\n",
        "\n",
        "*   x < y  \n",
        "*   x > y\n",
        "*   x <= y\n",
        "*   x >- y\n",
        "*   x == y\n",
        "*   x != y\n",
        "*   x or y\n",
        "*   x and y\n",
        "\n"
      ]
    },
    {
      "cell_type": "markdown",
      "metadata": {
        "id": "oumcEnY4QHdO"
      },
      "source": [
        "**Operatii repetitive**\n",
        "\n",
        "Sintaxa\n",
        "\n",
        "```\n",
        "for <variabila> in <vector>:\n",
        "  <statement>\n",
        "```\n",
        "\n",
        "\n",
        "```\n",
        "while <expresie>:\n",
        "  <statement>\n",
        "```\n",
        "\n",
        "Exemple\n",
        "\n",
        "\n",
        "\n"
      ]
    },
    {
      "cell_type": "code",
      "metadata": {
        "id": "JCSYqokKMhHf"
      },
      "source": [
        "vector = [0, 1, 2, 3, 4, 5, 6, 7, 8, 9, 10, 11, 12, 13, 14, 15]\n",
        "print('element -> element+3')\n",
        "\n",
        "for element in vector:\n",
        "  val = element+3\n",
        "  print(str(element)+' -> '+str(val))"
      ],
      "execution_count": null,
      "outputs": []
    },
    {
      "cell_type": "code",
      "metadata": {
        "id": "hjXU0o81XYuA"
      },
      "source": [
        "vector_str = [\"Învățare\", \"automată\", \"este\", \"un\", \"subdomeniu\", \"al\", \"informaticii\", \"și\", \"o\", \"ramură\", \"a\", \"inteligenței\", \"artificiale\", \"al\", \"cărui\", \"obiectiv\", \"este\", \"de\", \"a\", \"dezvolta\", \"tehnici\", \"care\", \"dau\", \"calculatoarelor\", \"posibilitatea\", \"de\", \"a\", \"învăța\" ]\n",
        "print(vector_str)\n",
        "\n",
        "lungime = len(vector_str) #functia len() calculeaza lungimea unui vector\n",
        "\n",
        "for index in range(0,lungime):  #functia range(min, max) creaza un vector cu elemente crescatoarea si consecutive in intervalul specificat intre min si max.\n",
        "  print(vector_str[index])     \n"
      ],
      "execution_count": null,
      "outputs": []
    },
    {
      "cell_type": "code",
      "metadata": {
        "id": "YsEhL1NoZ8Z4"
      },
      "source": [
        "a = 0\n",
        "b = 3\n",
        "contor = 0\n",
        "\n",
        "print('Valoarea initiala a variabilier a = ' +str(a))\n",
        "\n",
        "while contor <18:\n",
        "  a = a+b\n",
        "  contor += 1  #incrementarea contorului cu 1\n",
        "\n",
        "print('Valoarea finala a variabilei a = ' + str(a))"
      ],
      "execution_count": null,
      "outputs": []
    },
    {
      "cell_type": "markdown",
      "metadata": {
        "id": "3LcQNPTLbG_O"
      },
      "source": [
        "# Exercitiu 2a\n",
        "Creati un element aleatoriu intre 1 si 10. Utilizați funcția numpy - np.random.randint(nr max, size=(x,x)). In functie de valoarea elementului, afisati:\n",
        "\n",
        "\n",
        "*   *Numarul generat este mai mic decat 5*\n",
        "*   *Numarul generat este intre 5 si 8*\n",
        "*   *Numarul generat este mai mare decat 8*\n",
        "\n",
        "Afisati numarul generat. \n",
        "\n",
        "\n"
      ]
    },
    {
      "cell_type": "code",
      "metadata": {
        "id": "e5nyreCfcUbt"
      },
      "source": [
        ""
      ],
      "execution_count": null,
      "outputs": []
    },
    {
      "cell_type": "markdown",
      "metadata": {
        "id": "zMXAzXgOcxzN"
      },
      "source": [
        "# Exercitiu 2b\n",
        "Calculati factorial de 10 (10! = 1* 2 * 3 * 4 *....) folosing o functie repetitiva.\n",
        "\n",
        "\n",
        "\n"
      ]
    },
    {
      "cell_type": "code",
      "metadata": {
        "id": "TxPZoICDeTqV"
      },
      "source": [
        ""
      ],
      "execution_count": null,
      "outputs": []
    },
    {
      "cell_type": "markdown",
      "metadata": {
        "id": "gkNQQ6OZEG-K"
      },
      "source": [
        "#Citirea datelor din fisier\n",
        "\n",
        "\n",
        "*   Fisiere .mat\n",
        "*   Fisiere .csv\n",
        "\n",
        "Accessarea datelor din github\n",
        "\n"
      ]
    },
    {
      "cell_type": "code",
      "metadata": {
        "id": "RtAlHh4GJmU_"
      },
      "source": [
        ""
      ],
      "execution_count": null,
      "outputs": []
    },
    {
      "cell_type": "markdown",
      "metadata": {
        "id": "z98NiZhhKIeL"
      },
      "source": [
        "#Vizualizarea datelor\n",
        "\n",
        "\n"
      ]
    },
    {
      "cell_type": "code",
      "metadata": {
        "id": "V77-4uZUKbN4"
      },
      "source": [
        ""
      ],
      "execution_count": null,
      "outputs": []
    },
    {
      "cell_type": "markdown",
      "metadata": {
        "id": "P2axXG84JnI2"
      },
      "source": [
        "#Scrierea datelor in fisiere .csv\n"
      ]
    },
    {
      "cell_type": "code",
      "metadata": {
        "id": "SwhqYFQFKH-G"
      },
      "source": [
        ""
      ],
      "execution_count": null,
      "outputs": []
    }
  ]
}